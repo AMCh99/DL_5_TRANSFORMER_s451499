{
 "cells": [
  {
   "cell_type": "markdown",
   "metadata": {},
   "source": [
    "https://huggingface.co/docs/transformers/main_classes/pipelines"
   ]
  },
  {
   "cell_type": "code",
   "execution_count": 56,
   "metadata": {},
   "outputs": [],
   "source": [
    "from transformers import pipeline, AutoTokenizer, AutoModelForTokenClassification\n",
    "import csv"
   ]
  },
  {
   "cell_type": "code",
   "execution_count": 57,
   "metadata": {},
   "outputs": [
    {
     "name": "stderr",
     "output_type": "stream",
     "text": [
      "Some weights of the model checkpoint at dbmdz/bert-large-cased-finetuned-conll03-english were not used when initializing BertForTokenClassification: ['bert.pooler.dense.bias', 'bert.pooler.dense.weight']\n",
      "- This IS expected if you are initializing BertForTokenClassification from the checkpoint of a model trained on another task or with another architecture (e.g. initializing a BertForSequenceClassification model from a BertForPreTraining model).\n",
      "- This IS NOT expected if you are initializing BertForTokenClassification from the checkpoint of a model that you expect to be exactly identical (initializing a BertForSequenceClassification model from a BertForSequenceClassification model).\n"
     ]
    }
   ],
   "source": [
    "model = AutoModelForTokenClassification.from_pretrained(\"dbmdz/bert-large-cased-finetuned-conll03-english\")\n",
    "tokenizer = AutoTokenizer.from_pretrained(\"google-bert/bert-base-cased\")\n",
    "ner_model = pipeline(\"ner\", model=model, tokenizer=tokenizer)"
   ]
  },
  {
   "cell_type": "code",
   "execution_count": 58,
   "metadata": {},
   "outputs": [],
   "source": [
    "def open_file(set: str):\n",
    "    with open(f'../en-ner-conll-2003/{set}', 'r', encoding='utf-8') as file:\n",
    "        reader = csv.reader(file, delimiter='\\t')\n",
    "        text_data = [row for row in reader]\n",
    "    return text_data"
   ]
  },
  {
   "cell_type": "code",
   "execution_count": 59,
   "metadata": {},
   "outputs": [],
   "source": [
    "def prepare_tokens_lists(set: str):\n",
    "    processed_texts = []\n",
    "\n",
    "    for line in open_file(set):\n",
    "        if '</S>' in line:\n",
    "            tokens = [token for token in line if token != '</S>']\n",
    "            if tokens:\n",
    "                processed_texts.append(tokens)\n",
    "        else:\n",
    "            processed_texts.append(line)\n",
    "\n",
    "    return processed_texts"
   ]
  },
  {
   "cell_type": "code",
   "execution_count": 60,
   "metadata": {},
   "outputs": [],
   "source": [
    "def tokens_to_labels(tokens, preds):\n",
    "    labels = ['O'] * len(tokens)\n",
    "    current_entity = None\n",
    "    \n",
    "    for pred in preds:\n",
    "        entity_type = pred['entity'][2:]\n",
    "        start, end = pred['start'], pred['end']\n",
    "        \n",
    "        for i, token in enumerate(tokens):\n",
    "            if start <= i < end:\n",
    "                if i == start or current_entity != entity_type:\n",
    "                    labels[i] = 'B-' + entity_type\n",
    "                    current_entity = entity_type\n",
    "                else:\n",
    "                    labels[i] = 'I-' + entity_type\n",
    "                    \n",
    "    return labels"
   ]
  },
  {
   "cell_type": "code",
   "execution_count": 61,
   "metadata": {},
   "outputs": [],
   "source": [
    "def save_preds(file_path, labels):\n",
    "    with open(f'../en-ner-conll-2003/{file_path}', 'w', newline='', encoding='utf-8') as f:\n",
    "        writer = csv.writer(f, delimiter='\\t')\n",
    "        for label_sequence in labels:\n",
    "            writer.writerow([' '.join(label_sequence)])"
   ]
  },
  {
   "cell_type": "code",
   "execution_count": 62,
   "metadata": {},
   "outputs": [
    {
     "name": "stdout",
     "output_type": "stream",
     "text": [
      "[[\"CRICKET - LEICESTERSHIRE TAKE OVER AT TOP AFTER INNINGS VICTORY . </S> LONDON 1996-08-30 </S> West Indian all-rounder Phil Simmons took four for 38 on Friday as Leicestershire beat Somerset by an innings and 39 runs in two days to take over at the head of the county championship . </S> Their stay on top , though , may be short-lived as title rivals Essex , Derbyshire and Surrey all closed in on victory while Kent made up for lost time in their rain-affected match against Nottinghamshire . </S> After bowling Somerset out for 83 on the opening morning at Grace Road , Leicestershire extended their first innings by 94 runs before being bowled out for 296 with England discard Andy Caddick taking three for 83 . </S> Trailing by 213 , Somerset got a solid start to their second innings before Simmons stepped in to bundle them out for 174 . </S> Essex , however , look certain to regain their top spot after Nasser Hussain and Peter Such gave them a firm grip on their match against Yorkshire at Headingley . </S> Hussain , considered surplus to England 's one-day requirements , struck 158 , his first championship century of the season , as Essex reached 372 and took a first innings lead of 82 . </S> By the close Yorkshire had turned that into a 37-run advantage but off-spinner Such had scuttled their hopes , taking four for 24 in 48 balls and leaving them hanging on 119 for five and praying for rain . </S> At the Oval , Surrey captain Chris Lewis , another man dumped by England , continued to silence his critics as he followed his four for 45 on Thursday with 80 not out on Friday in the match against Warwickshire . </S> He was well backed by England hopeful Mark Butcher who made 70 as Surrey closed on 429 for seven , a lead of 234 . </S> Derbyshire kept up the hunt for their first championship title since 1936 by reducing Worcestershire to 133 for five in their second innings , still 100 runs away from avoiding an innings defeat . </S> Australian Tom Moody took six for 82 but Chris Adams , 123 , and Tim O'Gorman , 109 , took Derbyshire to 471 and a first innings lead of 233 . </S> After the frustration of seeing the opening day of their match badly affected by the weather , Kent stepped up a gear to dismiss Nottinghamshire for 214 . </S> They were held up by a gritty 84 from Paul Johnson but ex-England fast bowler Martin McCague took four for 55 . </S> By stumps Kent had reached 108 for three . </S>\"]]\n"
     ]
    },
    {
     "name": "stderr",
     "output_type": "stream",
     "text": [
      "Token indices sequence length is longer than the specified maximum sequence length for this model (575 > 512). Running this sequence through the model will result in indexing errors\n"
     ]
    }
   ],
   "source": [
    "input_sentences = prepare_tokens_lists('dev-0/in.tsv')\n",
    "print(input_sentences[:1])\n",
    "\n",
    "all_preds = [ner_model(' '.join(sentence)) for sentence in input_sentences]\n",
    "\n",
    "tokenized_sentences = [tokenizer.tokenize(' '.join(sentence)) for sentence in input_sentences]\n",
    "all_labels = [tokens_to_labels(tokens, preds) for tokens, preds in zip(tokenized_sentences, all_preds)]\n",
    "\n",
    "save_preds('dev-0/out.tsv', all_labels)\n",
    "\n",
    "'''\n",
    "./geval -t dev-0\n",
    "0.00934\n",
    "\n",
    "\n",
    "./geval -t dev-0 --metric GLEU --metric WER --metric Accuracy\n",
    "BIO-F1  0.00934\n",
    "GLEU    0.54233\n",
    "WER     0.60932\n",
    "Accuracy        0.00000\n",
    "'''"
   ]
  },
  {
   "cell_type": "code",
   "execution_count": 63,
   "metadata": {},
   "outputs": [],
   "source": [
    "input_sentences = prepare_tokens_lists('test-A/in.tsv')\n",
    "\n",
    "all_preds = [ner_model(' '.join(sentence)) for sentence in input_sentences]\n",
    "\n",
    "tokenized_sentences = [tokenizer.tokenize(' '.join(sentence)) for sentence in input_sentences]\n",
    "all_labels = [tokens_to_labels(tokens, preds) for tokens, preds in zip(tokenized_sentences, all_preds)]\n",
    "\n",
    "save_preds('test-A/out.tsv', all_labels)"
   ]
  }
 ],
 "metadata": {
  "kernelspec": {
   "display_name": "451499_env",
   "language": "python",
   "name": "python3"
  },
  "language_info": {
   "codemirror_mode": {
    "name": "ipython",
    "version": 3
   },
   "file_extension": ".py",
   "mimetype": "text/x-python",
   "name": "python",
   "nbconvert_exporter": "python",
   "pygments_lexer": "ipython3",
   "version": "3.12.3"
  }
 },
 "nbformat": 4,
 "nbformat_minor": 2
}
